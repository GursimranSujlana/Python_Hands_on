{
  "cells": [
    {
      "cell_type": "markdown",
      "metadata": {
        "id": "TY6yzoGg6GXF"
      },
      "source": [
        "## Python Data Structures and Boolean\n",
        "\n",
        "- Boolean\n",
        "- Boolean and Logical Operators\n",
        "- Lists\n",
        "- Comparison operators\n",
        "- Dictionaries\n",
        "- Tuples\n",
        "- Sets\n"
      ]
    },
    {
      "cell_type": "markdown",
      "metadata": {
        "id": "fMw2AcMs6GXL"
      },
      "source": [
        "### Boolean Variables\n",
        "\n",
        "Boolean values are the two constant objects False and True.\n",
        "\n",
        "They are used to represent truth values (other values can also be considered\n",
        "false or true).\n",
        "\n",
        "In numeric contexts (for example, when used as the argument to an\n",
        "arithmetic operator), they behave like the integers 0 and 1, respectively.\n",
        "\n",
        "The built-in function bool() can be used to cast any value to a Boolean,\n",
        "if the value can be interpreted as a truth value\n",
        "\n",
        "They are written as False and True, respectively.\n",
        "\n"
      ]
    },
    {
      "cell_type": "code",
      "execution_count": null,
      "metadata": {
        "colab": {
          "base_uri": "https://localhost:8080/"
        },
        "id": "cYnPfXo96GXM",
        "outputId": "d1ab7a5f-3b3a-4f81-c456-e4e2e2353827"
      },
      "outputs": [
        {
          "output_type": "execute_result",
          "data": {
            "text/plain": [
              "False"
            ]
          },
          "metadata": {},
          "execution_count": 7
        }
      ],
      "source": [
        "False"
      ]
    },
    {
      "cell_type": "code",
      "execution_count": null,
      "metadata": {
        "colab": {
          "base_uri": "https://localhost:8080/"
        },
        "id": "UPq03wtf6GXP",
        "outputId": "e7a4b0e0-2ade-44e0-b47d-b4cb79421270"
      },
      "outputs": [
        {
          "output_type": "stream",
          "name": "stdout",
          "text": [
            "True False\n"
          ]
        }
      ],
      "source": [
        "print(True,False)"
      ]
    },
    {
      "cell_type": "code",
      "execution_count": null,
      "metadata": {
        "colab": {
          "base_uri": "https://localhost:8080/"
        },
        "id": "9pVT0GPv6GXQ",
        "outputId": "4422e6b3-6219-4daf-9d02-662a34aa826f"
      },
      "outputs": [
        {
          "output_type": "execute_result",
          "data": {
            "text/plain": [
              "bool"
            ]
          },
          "metadata": {},
          "execution_count": 9
        }
      ],
      "source": [
        "type(True)"
      ]
    },
    {
      "cell_type": "code",
      "execution_count": null,
      "metadata": {
        "colab": {
          "base_uri": "https://localhost:8080/"
        },
        "id": "4l3ej5vU6GXR",
        "outputId": "f42a5d31-4297-48db-cc12-6f2a427ae63a"
      },
      "outputs": [
        {
          "output_type": "execute_result",
          "data": {
            "text/plain": [
              "bool"
            ]
          },
          "metadata": {},
          "execution_count": 10
        }
      ],
      "source": [
        "type(False)"
      ]
    },
    {
      "cell_type": "code",
      "execution_count": null,
      "metadata": {
        "id": "ahT2cHhE6GXS"
      },
      "outputs": [],
      "source": [
        "my_str='Hello World!!'"
      ]
    },
    {
      "cell_type": "code",
      "source": [
        "my_str"
      ],
      "metadata": {
        "colab": {
          "base_uri": "https://localhost:8080/",
          "height": 35
        },
        "id": "ezYARqDm6fj3",
        "outputId": "bd057ce8-2a6f-4ad5-ee3f-913e846397da"
      },
      "execution_count": null,
      "outputs": [
        {
          "output_type": "execute_result",
          "data": {
            "text/plain": [
              "'Hello World!!'"
            ],
            "application/vnd.google.colaboratory.intrinsic+json": {
              "type": "string"
            }
          },
          "metadata": {},
          "execution_count": 15
        }
      ]
    },
    {
      "cell_type": "code",
      "execution_count": null,
      "metadata": {
        "colab": {
          "base_uri": "https://localhost:8080/"
        },
        "id": "qQAaPVUM6GXT",
        "outputId": "09648316-8a87-4f6d-a246-24d382d36886"
      },
      "outputs": [
        {
          "output_type": "execute_result",
          "data": {
            "text/plain": [
              "True"
            ]
          },
          "metadata": {},
          "execution_count": 16
        }
      ],
      "source": [
        "my_str.istitle()"
      ]
    },
    {
      "cell_type": "code",
      "execution_count": null,
      "metadata": {
        "colab": {
          "base_uri": "https://localhost:8080/"
        },
        "id": "RvJV8AYX6GXU",
        "outputId": "d20a6ac0-4d53-4fbd-fb9f-c07256cfed69"
      },
      "outputs": [
        {
          "output_type": "stream",
          "name": "stdout",
          "text": [
            "False\n",
            "False\n",
            "False\n",
            "True\n",
            "False\n",
            "False\n",
            "False\n",
            "False\n",
            "True\n"
          ]
        }
      ],
      "source": [
        "print(my_str.isalnum()) #check if all char are numbers\n",
        "print(my_str.isalpha()) #check if all char in the string are alphabetic\n",
        "print(my_str.isdigit()) #test if string contains digits\n",
        "print(my_str.istitle()) #test if string contains title words i.e. first letter in upper case\n",
        "print(my_str.isupper()) #test if string contains upper case\n",
        "print(my_str.islower()) #test if string contains lower case\n",
        "print(my_str.isspace()) #test if string contains spaces\n",
        "print(my_str.endswith('o')) #test if string endswith a o\n",
        "print(my_str.startswith('H')) #test if string startswith H"
      ]
    },
    {
      "cell_type": "markdown",
      "metadata": {
        "id": "nuv_54sg6GXW"
      },
      "source": [
        "### Boolean and Logical Operators"
      ]
    },
    {
      "cell_type": "code",
      "execution_count": null,
      "metadata": {
        "colab": {
          "base_uri": "https://localhost:8080/"
        },
        "id": "3jWjyiq_6GXW",
        "outputId": "bd90df1e-6e39-4c74-df12-127229c19209"
      },
      "outputs": [
        {
          "output_type": "execute_result",
          "data": {
            "text/plain": [
              "True"
            ]
          },
          "metadata": {},
          "execution_count": 12
        }
      ],
      "source": [
        "True and True"
      ]
    },
    {
      "cell_type": "code",
      "execution_count": null,
      "metadata": {
        "colab": {
          "base_uri": "https://localhost:8080/"
        },
        "id": "PWN5ahjF6GXX",
        "outputId": "5c6e950d-3be8-4074-ef5e-9d13c51f93ba"
      },
      "outputs": [
        {
          "output_type": "execute_result",
          "data": {
            "text/plain": [
              "False"
            ]
          },
          "metadata": {},
          "execution_count": 18
        }
      ],
      "source": [
        "True and False"
      ]
    },
    {
      "cell_type": "code",
      "execution_count": null,
      "metadata": {
        "colab": {
          "base_uri": "https://localhost:8080/"
        },
        "id": "jjDqS3bp6GXY",
        "outputId": "1b4c8027-2e5e-4844-9774-cae6eab66d02"
      },
      "outputs": [
        {
          "output_type": "execute_result",
          "data": {
            "text/plain": [
              "True"
            ]
          },
          "metadata": {},
          "execution_count": 19
        }
      ],
      "source": [
        "True or False"
      ]
    },
    {
      "cell_type": "code",
      "execution_count": null,
      "metadata": {
        "colab": {
          "base_uri": "https://localhost:8080/"
        },
        "id": "3hH2IzDF6GXZ",
        "outputId": "eda98313-955b-49a7-f14e-7ec837fa79c8"
      },
      "outputs": [
        {
          "output_type": "execute_result",
          "data": {
            "text/plain": [
              "True"
            ]
          },
          "metadata": {},
          "execution_count": 20
        }
      ],
      "source": [
        "True or True"
      ]
    },
    {
      "cell_type": "code",
      "execution_count": null,
      "metadata": {
        "id": "rs6KAfey6GXZ"
      },
      "outputs": [],
      "source": [
        "str_example='Hello World'\n",
        "my_str='byee'"
      ]
    },
    {
      "cell_type": "code",
      "execution_count": null,
      "metadata": {
        "colab": {
          "base_uri": "https://localhost:8080/"
        },
        "id": "zI1InLoH6GXa",
        "outputId": "fc6f2645-5745-4a85-ee08-a561be2ed132"
      },
      "outputs": [
        {
          "output_type": "execute_result",
          "data": {
            "text/plain": [
              "True"
            ]
          },
          "metadata": {},
          "execution_count": 22
        }
      ],
      "source": [
        "my_str.isalpha() or str_example.isnum()"
      ]
    },
    {
      "cell_type": "markdown",
      "metadata": {
        "id": "IEDRTk6r6GXa"
      },
      "source": [
        "### Lists\n",
        "\n",
        "A list is a data structure in Python that is a mutable, or changeable, ordered sequence of elements. Each element or value that is inside of a list is called an item. Just as strings are defined as characters between quotes, lists are defined by having values between square brackets [ ]"
      ]
    },
    {
      "cell_type": "code",
      "execution_count": null,
      "metadata": {
        "colab": {
          "base_uri": "https://localhost:8080/"
        },
        "id": "WEV0AeMe6GXb",
        "outputId": "b0003e4b-9a75-4460-f5c0-467bc8caaa0c"
      },
      "outputs": [
        {
          "output_type": "execute_result",
          "data": {
            "text/plain": [
              "list"
            ]
          },
          "metadata": {},
          "execution_count": 24
        }
      ],
      "source": [
        "type([])"
      ]
    },
    {
      "cell_type": "code",
      "execution_count": null,
      "metadata": {
        "id": "Or1gB56D6GXb"
      },
      "outputs": [],
      "source": [
        "lst_example=[]"
      ]
    },
    {
      "cell_type": "code",
      "execution_count": null,
      "metadata": {
        "colab": {
          "base_uri": "https://localhost:8080/"
        },
        "id": "_zzyK_mu6GXb",
        "outputId": "aba6e043-0757-4241-a023-951e27604fb5"
      },
      "outputs": [
        {
          "output_type": "execute_result",
          "data": {
            "text/plain": [
              "list"
            ]
          },
          "metadata": {},
          "execution_count": 26
        }
      ],
      "source": [
        "type(lst_example)"
      ]
    },
    {
      "cell_type": "code",
      "execution_count": null,
      "metadata": {
        "id": "6qD5CGhe6GXc"
      },
      "outputs": [],
      "source": [
        "lst=list() ## using inbuild function"
      ]
    },
    {
      "cell_type": "code",
      "execution_count": null,
      "metadata": {
        "colab": {
          "base_uri": "https://localhost:8080/"
        },
        "id": "53bt_5XU6GXc",
        "outputId": "c165c21c-73be-407f-fd55-a4c0978ed837"
      },
      "outputs": [
        {
          "output_type": "execute_result",
          "data": {
            "text/plain": [
              "list"
            ]
          },
          "metadata": {},
          "execution_count": 30
        }
      ],
      "source": [
        "type(lst)"
      ]
    },
    {
      "cell_type": "code",
      "execution_count": null,
      "metadata": {
        "id": "lVlrNTYr6GXd"
      },
      "outputs": [],
      "source": [
        "lst=['sam', 'ram', 103, 203, 305, 204]"
      ]
    },
    {
      "cell_type": "code",
      "execution_count": null,
      "metadata": {
        "id": "nMCXUoJs6GXd",
        "outputId": "ee464651-206a-47c8-b5dd-9f1cb0019157"
      },
      "outputs": [
        {
          "data": {
            "text/plain": [
              "6"
            ]
          },
          "execution_count": 18,
          "metadata": {},
          "output_type": "execute_result"
        }
      ],
      "source": [
        "len(lst)"
      ]
    },
    {
      "cell_type": "code",
      "execution_count": null,
      "metadata": {
        "id": "08voQdo66GXd",
        "outputId": "b4c731b3-ce74-412d-e946-f5c683eed244"
      },
      "outputs": [
        {
          "data": {
            "text/plain": [
              "list"
            ]
          },
          "execution_count": 17,
          "metadata": {},
          "output_type": "execute_result"
        }
      ],
      "source": [
        "type(lst)"
      ]
    },
    {
      "cell_type": "markdown",
      "metadata": {
        "id": "LCrbQ50M6GXe"
      },
      "source": [
        "### Append"
      ]
    },
    {
      "cell_type": "code",
      "execution_count": null,
      "metadata": {
        "id": "fGjVUrhR6GXe"
      },
      "outputs": [],
      "source": [
        "#.append is used to add elements in the list\n",
        "lst.append(\"raju\")"
      ]
    },
    {
      "cell_type": "code",
      "source": [
        "lst"
      ],
      "metadata": {
        "colab": {
          "base_uri": "https://localhost:8080/"
        },
        "id": "l1_zzNx-9Ewa",
        "outputId": "325d1dba-b518-4be3-f3c4-0a1208ca4b15"
      },
      "execution_count": null,
      "outputs": [
        {
          "output_type": "execute_result",
          "data": {
            "text/plain": [
              "['sam', 'ram', 103, 203, 305, 204, 'raju']"
            ]
          },
          "metadata": {},
          "execution_count": 33
        }
      ]
    },
    {
      "cell_type": "code",
      "execution_count": null,
      "metadata": {
        "id": "wuXATVzy6GXe"
      },
      "outputs": [],
      "source": [
        "lst.append([\"shaam\",\"babu bhaiya\"]) ##nested list will be created"
      ]
    },
    {
      "cell_type": "code",
      "execution_count": null,
      "metadata": {
        "colab": {
          "base_uri": "https://localhost:8080/"
        },
        "id": "40Cqb_gf6GXe",
        "outputId": "93fcf9e9-3695-4fba-b659-9d49d61c4c13"
      },
      "outputs": [
        {
          "output_type": "execute_result",
          "data": {
            "text/plain": [
              "['sam', 'ram', 103, 203, 305, 204, 'raju', ['shaam', 'babu bhaiya']]"
            ]
          },
          "metadata": {},
          "execution_count": 36
        }
      ],
      "source": [
        "lst"
      ]
    },
    {
      "cell_type": "code",
      "execution_count": null,
      "metadata": {
        "colab": {
          "base_uri": "https://localhost:8080/",
          "height": 35
        },
        "id": "wpLQ7r_e6GXf",
        "outputId": "dc8e3990-32b2-4c57-c091-e64f7eedb2f7"
      },
      "outputs": [
        {
          "output_type": "execute_result",
          "data": {
            "text/plain": [
              "'raju'"
            ],
            "application/vnd.google.colaboratory.intrinsic+json": {
              "type": "string"
            }
          },
          "metadata": {},
          "execution_count": 37
        }
      ],
      "source": [
        "##Indexing in List\n",
        "lst[6]"
      ]
    },
    {
      "cell_type": "code",
      "execution_count": null,
      "metadata": {
        "colab": {
          "base_uri": "https://localhost:8080/"
        },
        "id": "Cz8wuMkE6GXf",
        "outputId": "8327b4e4-43cc-48ee-fb16-978dad1d87be"
      },
      "outputs": [
        {
          "output_type": "execute_result",
          "data": {
            "text/plain": [
              "['ram', 103, 203, 305, 204]"
            ]
          },
          "metadata": {},
          "execution_count": 38
        }
      ],
      "source": [
        "lst[1:6] ##indexing using range : by default 0 to end [:]"
      ]
    },
    {
      "cell_type": "code",
      "source": [
        "lst[1:]"
      ],
      "metadata": {
        "colab": {
          "base_uri": "https://localhost:8080/"
        },
        "id": "mvHeqKvj9g_k",
        "outputId": "d8c1f47c-2a26-42f9-f0e2-df942cdb1a2e"
      },
      "execution_count": null,
      "outputs": [
        {
          "output_type": "execute_result",
          "data": {
            "text/plain": [
              "['ram', 103, 203, 305, 204, 'raju', ['shaam', 'babu bhaiya']]"
            ]
          },
          "metadata": {},
          "execution_count": 39
        }
      ]
    },
    {
      "cell_type": "code",
      "source": [
        "lst[:5] ## before last given index will be picked up"
      ],
      "metadata": {
        "colab": {
          "base_uri": "https://localhost:8080/"
        },
        "id": "IPhXwyVB9jcr",
        "outputId": "f018e93f-b315-4917-e74d-6598eddd712a"
      },
      "execution_count": null,
      "outputs": [
        {
          "output_type": "execute_result",
          "data": {
            "text/plain": [
              "['sam', 'ram', 103, 203, 305]"
            ]
          },
          "metadata": {},
          "execution_count": 40
        }
      ]
    },
    {
      "cell_type": "markdown",
      "metadata": {
        "id": "-_2oDe746GXf"
      },
      "source": [
        "### Insert"
      ]
    },
    {
      "cell_type": "code",
      "execution_count": null,
      "metadata": {
        "id": "5nAkLXhV6GXg"
      },
      "outputs": [],
      "source": [
        "## insert in a specific order\n",
        "\n",
        "lst.insert(2,\"shyaam\") ##first is index, second is the value that needed to be added"
      ]
    },
    {
      "cell_type": "code",
      "execution_count": null,
      "metadata": {
        "colab": {
          "base_uri": "https://localhost:8080/"
        },
        "id": "QmXnX8hP6GXg",
        "outputId": "e4e7e8c2-ef9a-4bfa-8f61-33683e0ccfcb"
      },
      "outputs": [
        {
          "output_type": "execute_result",
          "data": {
            "text/plain": [
              "['sam',\n",
              " 'ram',\n",
              " 'shyaam',\n",
              " 'shyaam',\n",
              " 103,\n",
              " 203,\n",
              " 305,\n",
              " 204,\n",
              " 'raju',\n",
              " ['shaam', 'babu bhaiya']]"
            ]
          },
          "metadata": {},
          "execution_count": 44
        }
      ],
      "source": [
        "lst"
      ]
    },
    {
      "cell_type": "code",
      "execution_count": null,
      "metadata": {
        "id": "UnmIh8Bc6GXg"
      },
      "outputs": [],
      "source": [
        "lst.append([\"Hello\",\"World\"])"
      ]
    },
    {
      "cell_type": "code",
      "execution_count": null,
      "metadata": {
        "colab": {
          "base_uri": "https://localhost:8080/"
        },
        "id": "rE8yR2SI6GXh",
        "outputId": "7b3e24ff-4d11-4d63-8d48-18790edaf713"
      },
      "outputs": [
        {
          "output_type": "execute_result",
          "data": {
            "text/plain": [
              "['sam',\n",
              " 'ram',\n",
              " 'shyaam',\n",
              " 'shyaam',\n",
              " 103,\n",
              " 203,\n",
              " 305,\n",
              " 204,\n",
              " 'raju',\n",
              " ['shaam', 'babu bhaiya'],\n",
              " ['Hello', 'World']]"
            ]
          },
          "metadata": {},
          "execution_count": 46
        }
      ],
      "source": [
        "lst"
      ]
    },
    {
      "cell_type": "code",
      "execution_count": null,
      "metadata": {
        "id": "BCqE55Hi6GXh"
      },
      "outputs": [],
      "source": [
        "lst=[1,2,3]"
      ]
    },
    {
      "cell_type": "code",
      "execution_count": null,
      "metadata": {
        "id": "IiSy9t1L6GXh"
      },
      "outputs": [],
      "source": [
        "lst.append([4,5])"
      ]
    },
    {
      "cell_type": "code",
      "execution_count": null,
      "metadata": {
        "colab": {
          "base_uri": "https://localhost:8080/"
        },
        "id": "q6cZcJUW6GXh",
        "outputId": "32b094a5-db81-464d-c9fb-b7b6dece787a"
      },
      "outputs": [
        {
          "output_type": "execute_result",
          "data": {
            "text/plain": [
              "[1, 2, 3, [4, 5]]"
            ]
          },
          "metadata": {},
          "execution_count": 49
        }
      ],
      "source": [
        "lst"
      ]
    },
    {
      "cell_type": "markdown",
      "metadata": {
        "id": "LsSKcTbD6GXp"
      },
      "source": [
        "### Extend Method"
      ]
    },
    {
      "cell_type": "code",
      "execution_count": null,
      "metadata": {
        "id": "CZSBeL_i6GXp"
      },
      "outputs": [],
      "source": [
        "lst=[1,2,3,4,5,6]"
      ]
    },
    {
      "cell_type": "code",
      "execution_count": null,
      "metadata": {
        "id": "KXJtudwK6GXp"
      },
      "outputs": [],
      "source": [
        "lst.extend([8,9]) ## not making nested list"
      ]
    },
    {
      "cell_type": "code",
      "execution_count": null,
      "metadata": {
        "colab": {
          "base_uri": "https://localhost:8080/"
        },
        "id": "490qlwaK6GXq",
        "outputId": "04c35225-b124-4726-e41c-23e29fe00a38"
      },
      "outputs": [
        {
          "output_type": "execute_result",
          "data": {
            "text/plain": [
              "[1, 2, 3, 4, 5, 6, 8, 9]"
            ]
          },
          "metadata": {},
          "execution_count": 52
        }
      ],
      "source": [
        "lst"
      ]
    },
    {
      "cell_type": "markdown",
      "metadata": {
        "id": "bgutHY9N6GXq"
      },
      "source": [
        "### Various Operations that we can perform in List"
      ]
    },
    {
      "cell_type": "code",
      "execution_count": null,
      "metadata": {
        "id": "6Xt4AYxS6GXq"
      },
      "outputs": [],
      "source": [
        "lst=[1,2,3,4,5]"
      ]
    },
    {
      "cell_type": "code",
      "execution_count": null,
      "metadata": {
        "colab": {
          "base_uri": "https://localhost:8080/"
        },
        "id": "hFLEsOFS6GXr",
        "outputId": "70f61a73-c88f-4ec7-fa1b-3959b46be981"
      },
      "outputs": [
        {
          "output_type": "execute_result",
          "data": {
            "text/plain": [
              "15"
            ]
          },
          "metadata": {},
          "execution_count": 54
        }
      ],
      "source": [
        "sum(lst)"
      ]
    },
    {
      "cell_type": "code",
      "execution_count": null,
      "metadata": {
        "colab": {
          "base_uri": "https://localhost:8080/"
        },
        "id": "62IfsaXi6GXr",
        "outputId": "be94e863-680f-489c-8a90-b13077d4afdf"
      },
      "outputs": [
        {
          "output_type": "execute_result",
          "data": {
            "text/plain": [
              "[1, 2, 3, 4, 5, 1, 2, 3, 4, 5, 1, 2, 3, 4, 5, 1, 2, 3, 4, 5, 1, 2, 3, 4, 5]"
            ]
          },
          "metadata": {},
          "execution_count": 55
        }
      ],
      "source": [
        "lst*5 ## whole list will be appended 5 times"
      ]
    },
    {
      "cell_type": "markdown",
      "metadata": {
        "id": "Pn5JPGCi6GXr"
      },
      "source": [
        "### Pop() Method"
      ]
    },
    {
      "cell_type": "code",
      "execution_count": null,
      "metadata": {
        "colab": {
          "base_uri": "https://localhost:8080/"
        },
        "id": "wQ3850UV6GXs",
        "outputId": "776b66a5-db5d-4c0f-859f-408ba9d34824"
      },
      "outputs": [
        {
          "output_type": "execute_result",
          "data": {
            "text/plain": [
              "5"
            ]
          },
          "metadata": {},
          "execution_count": 56
        }
      ],
      "source": [
        "lst.pop() ## will remove the last element by default"
      ]
    },
    {
      "cell_type": "code",
      "execution_count": null,
      "metadata": {
        "colab": {
          "base_uri": "https://localhost:8080/"
        },
        "id": "zOIJusWs6GXs",
        "outputId": "d1e3af71-48ec-44b1-851d-fd2675bb28bd"
      },
      "outputs": [
        {
          "output_type": "execute_result",
          "data": {
            "text/plain": [
              "[1, 2, 3, 4]"
            ]
          },
          "metadata": {},
          "execution_count": 57
        }
      ],
      "source": [
        "lst"
      ]
    },
    {
      "cell_type": "code",
      "execution_count": null,
      "metadata": {
        "colab": {
          "base_uri": "https://localhost:8080/"
        },
        "id": "atZI0WRz6GXs",
        "outputId": "94849d42-36dc-47db-cbc0-a103bc45d3e8"
      },
      "outputs": [
        {
          "output_type": "execute_result",
          "data": {
            "text/plain": [
              "1"
            ]
          },
          "metadata": {},
          "execution_count": 58
        }
      ],
      "source": [
        "lst.pop(0) ##index element will be removed"
      ]
    },
    {
      "cell_type": "code",
      "execution_count": null,
      "metadata": {
        "colab": {
          "base_uri": "https://localhost:8080/"
        },
        "id": "F0BLqjHS6GXt",
        "outputId": "3ab18495-f1cf-4738-cbdc-d1a3402e3e0f"
      },
      "outputs": [
        {
          "output_type": "execute_result",
          "data": {
            "text/plain": [
              "[2, 3, 4]"
            ]
          },
          "metadata": {},
          "execution_count": 59
        }
      ],
      "source": [
        "lst"
      ]
    },
    {
      "cell_type": "markdown",
      "metadata": {
        "id": "Gpk3Tzv16GXt"
      },
      "source": [
        "### count():Calculates total occurrence of given element of List"
      ]
    },
    {
      "cell_type": "code",
      "execution_count": null,
      "metadata": {
        "colab": {
          "base_uri": "https://localhost:8080/"
        },
        "id": "nbTwVNJ26GXt",
        "outputId": "7b3647e8-72f4-4329-dd35-4859ca86b11e"
      },
      "outputs": [
        {
          "output_type": "execute_result",
          "data": {
            "text/plain": [
              "2"
            ]
          },
          "metadata": {},
          "execution_count": 60
        }
      ],
      "source": [
        "lst=[1,1,2,3,4,5]\n",
        "lst.count(1) ##counts total occurance of an element"
      ]
    },
    {
      "cell_type": "code",
      "execution_count": null,
      "metadata": {
        "colab": {
          "base_uri": "https://localhost:8080/"
        },
        "id": "8ACKn-dz6GXu",
        "outputId": "8c1c2355-48c2-4e56-f373-a7178af5767c"
      },
      "outputs": [
        {
          "output_type": "execute_result",
          "data": {
            "text/plain": [
              "6"
            ]
          },
          "metadata": {},
          "execution_count": 61
        }
      ],
      "source": [
        "#length:Calculates total length of List\n",
        "len(lst)"
      ]
    },
    {
      "cell_type": "code",
      "execution_count": null,
      "metadata": {
        "colab": {
          "base_uri": "https://localhost:8080/"
        },
        "id": "BYVru6i96GXu",
        "outputId": "ab90233a-9780-41b9-b735-fe0bd60ebed7"
      },
      "outputs": [
        {
          "output_type": "execute_result",
          "data": {
            "text/plain": [
              "1"
            ]
          },
          "metadata": {},
          "execution_count": 62
        }
      ],
      "source": [
        "# index(): Returns the index of first occurrence. Start and End index are not necessary parameters\n",
        "lst.index(1,1,4)"
      ]
    },
    {
      "cell_type": "code",
      "execution_count": null,
      "metadata": {
        "colab": {
          "base_uri": "https://localhost:8080/"
        },
        "id": "cZkAdBP36GXu",
        "outputId": "3a48b8b9-5152-4071-fbe4-51907ff06922"
      },
      "outputs": [
        {
          "output_type": "execute_result",
          "data": {
            "text/plain": [
              "1"
            ]
          },
          "metadata": {},
          "execution_count": 63
        }
      ],
      "source": [
        "##Min and Max\n",
        "min(lst)"
      ]
    },
    {
      "cell_type": "code",
      "execution_count": null,
      "metadata": {
        "colab": {
          "base_uri": "https://localhost:8080/"
        },
        "id": "qpB0_ZWK6GXv",
        "outputId": "4dd11de4-0783-4ae1-8027-3590a6e2a07e"
      },
      "outputs": [
        {
          "output_type": "execute_result",
          "data": {
            "text/plain": [
              "5"
            ]
          },
          "metadata": {},
          "execution_count": 64
        }
      ],
      "source": [
        "max(lst)"
      ]
    },
    {
      "cell_type": "markdown",
      "metadata": {
        "id": "-P-5U4Oy6GXv"
      },
      "source": [
        "## SETS\n",
        "\n",
        "A Set is an unordered collection data type that is iterable, mutable, and has no duplicate elements. Python's set class represents the mathematical notion of a set.This is based on a data structure known as a hash table"
      ]
    },
    {
      "cell_type": "code",
      "execution_count": null,
      "metadata": {
        "colab": {
          "base_uri": "https://localhost:8080/"
        },
        "id": "KQ6vSGV66GXv",
        "outputId": "9cb25f10-2193-42bf-b9b8-21f11ce6cca4"
      },
      "outputs": [
        {
          "output_type": "stream",
          "name": "stdout",
          "text": [
            "set()\n",
            "<class 'set'>\n"
          ]
        }
      ],
      "source": [
        "## Defining an empy set\n",
        "\n",
        "set_var= set()\n",
        "print(set_var)\n",
        "print(type(set_var))"
      ]
    },
    {
      "cell_type": "code",
      "execution_count": null,
      "metadata": {
        "id": "qrmmyqf66GXw"
      },
      "outputs": [],
      "source": [
        "set_var={1,2,3,4,3}"
      ]
    },
    {
      "cell_type": "code",
      "execution_count": null,
      "metadata": {
        "colab": {
          "base_uri": "https://localhost:8080/"
        },
        "id": "kBe89Ysi6GXw",
        "outputId": "f58a3656-32f5-4d88-eb2e-2b33c0686208"
      },
      "outputs": [
        {
          "output_type": "execute_result",
          "data": {
            "text/plain": [
              "{1, 2, 3, 4}"
            ]
          },
          "metadata": {},
          "execution_count": 67
        }
      ],
      "source": [
        "set_var"
      ]
    },
    {
      "cell_type": "code",
      "execution_count": null,
      "metadata": {
        "colab": {
          "base_uri": "https://localhost:8080/"
        },
        "id": "5Mxrbk6V6GXw",
        "outputId": "2742a51a-b815-4b3e-eaed-55ee966dbdf9"
      },
      "outputs": [
        {
          "output_type": "stream",
          "name": "stdout",
          "text": [
            "{'IronMan', 'Avengers', 'Hitman'}\n"
          ]
        },
        {
          "output_type": "execute_result",
          "data": {
            "text/plain": [
              "set"
            ]
          },
          "metadata": {},
          "execution_count": 68
        }
      ],
      "source": [
        "set_var={\"Avengers\",\"IronMan\",'Hitman'}\n",
        "print(set_var)\n",
        "type(set_var)"
      ]
    },
    {
      "cell_type": "code",
      "execution_count": null,
      "metadata": {
        "colab": {
          "base_uri": "https://localhost:8080/"
        },
        "id": "UONG-Gkb6GXx",
        "outputId": "e36cb61e-5dbe-4ac8-87e4-613778c01eeb"
      },
      "outputs": [
        {
          "output_type": "execute_result",
          "data": {
            "text/plain": [
              "{'Avengers', 'Hitman', 'IronMan'}"
            ]
          },
          "metadata": {},
          "execution_count": 69
        }
      ],
      "source": [
        "## indexing is not supported in sets\n",
        "set_var"
      ]
    },
    {
      "cell_type": "code",
      "execution_count": null,
      "metadata": {
        "id": "gPk-_0cQ6GXx"
      },
      "outputs": [],
      "source": [
        "## Inbuilt function in sets\n",
        "\n",
        "set_var.add(\"Hulk\")\n"
      ]
    },
    {
      "cell_type": "code",
      "execution_count": null,
      "metadata": {
        "colab": {
          "base_uri": "https://localhost:8080/"
        },
        "id": "smq93MUr6GXx",
        "outputId": "0c6cfb80-299e-44d3-cb85-8be59aefba07"
      },
      "outputs": [
        {
          "output_type": "execute_result",
          "data": {
            "text/plain": [
              "<function set.union>"
            ]
          },
          "metadata": {},
          "execution_count": 75
        }
      ],
      "source": [
        "set_var.union"
      ]
    },
    {
      "cell_type": "code",
      "execution_count": null,
      "metadata": {
        "colab": {
          "base_uri": "https://localhost:8080/"
        },
        "id": "8Xk1sFE-6GXx",
        "outputId": "8da6bf5b-42d7-4da2-9e00-674c8a700e70"
      },
      "outputs": [
        {
          "output_type": "stream",
          "name": "stdout",
          "text": [
            "{'IronMan', 'Avengers', 'Hitman', 'Hulk'}\n"
          ]
        }
      ],
      "source": [
        "print(set_var)"
      ]
    },
    {
      "cell_type": "code",
      "execution_count": null,
      "metadata": {
        "id": "Nmmi3A9U6GXy"
      },
      "outputs": [],
      "source": [
        "set1={\"Avengers\",\"IronMan\",'Hitman'}\n",
        "set2={\"Avengers\",\"IronMan\",'Hitman','Hulk2'}"
      ]
    },
    {
      "cell_type": "code",
      "execution_count": null,
      "metadata": {
        "colab": {
          "base_uri": "https://localhost:8080/"
        },
        "id": "GfE4-R5U6GXz",
        "outputId": "2b53338e-320b-464b-9a7b-7ac8e443139d"
      },
      "outputs": [
        {
          "output_type": "execute_result",
          "data": {
            "text/plain": [
              "{'Hulk2'}"
            ]
          },
          "metadata": {},
          "execution_count": 82
        }
      ],
      "source": [
        "##Difference\n",
        "set2.difference(set1) ##will be removing set1 elements from set2"
      ]
    },
    {
      "cell_type": "code",
      "execution_count": null,
      "metadata": {
        "colab": {
          "base_uri": "https://localhost:8080/"
        },
        "id": "N2kMVsH26GXz",
        "outputId": "5d1d25f6-1634-4339-d6f0-1c7f4b09c18e"
      },
      "outputs": [
        {
          "output_type": "execute_result",
          "data": {
            "text/plain": [
              "{'Avengers', 'Hitman', 'Hulk2', 'IronMan'}"
            ]
          },
          "metadata": {},
          "execution_count": 83
        }
      ],
      "source": [
        "set2"
      ]
    },
    {
      "cell_type": "code",
      "execution_count": null,
      "metadata": {
        "id": "OokPENvA6GXy"
      },
      "outputs": [],
      "source": [
        "set2.intersection_update(set1)"
      ]
    },
    {
      "cell_type": "code",
      "execution_count": null,
      "metadata": {
        "colab": {
          "base_uri": "https://localhost:8080/"
        },
        "id": "q5B-FBYd6GXy",
        "outputId": "e6224f74-6f5a-4404-a228-3045d2b1f21e"
      },
      "outputs": [
        {
          "output_type": "execute_result",
          "data": {
            "text/plain": [
              "{'Avengers', 'Hitman', 'IronMan'}"
            ]
          },
          "metadata": {},
          "execution_count": 85
        }
      ],
      "source": [
        "set2 ## only common elements will be displayed"
      ]
    },
    {
      "cell_type": "code",
      "execution_count": null,
      "metadata": {
        "id": "Ja2fCHqm6GXz"
      },
      "outputs": [],
      "source": [
        "## Difference update\n",
        "\n",
        "set2.difference_update(set1)"
      ]
    },
    {
      "cell_type": "code",
      "execution_count": null,
      "metadata": {
        "id": "nygz5_aO6GX0",
        "outputId": "bfeaea3c-766a-4475-9e49-90d01e8960b5"
      },
      "outputs": [
        {
          "name": "stdout",
          "output_type": "stream",
          "text": [
            "{'Hulk2'}\n"
          ]
        }
      ],
      "source": [
        "print(set2)"
      ]
    },
    {
      "cell_type": "markdown",
      "metadata": {
        "id": "skCQb5yM6GX0"
      },
      "source": [
        "## Dictionaries\n",
        "\n",
        "A dictionary is a collection which is unordered, changeable and indexed. In Python dictionaries are written with curly brackets, and they have keys and values."
      ]
    },
    {
      "cell_type": "code",
      "execution_count": null,
      "metadata": {
        "id": "c_zQnQwR6GX0"
      },
      "outputs": [],
      "source": [
        "dic={}"
      ]
    },
    {
      "cell_type": "code",
      "execution_count": null,
      "metadata": {
        "colab": {
          "base_uri": "https://localhost:8080/"
        },
        "id": "CPOUqd2h6GX1",
        "outputId": "7caf80a8-2f53-4a6b-afa5-8215e93914f4"
      },
      "outputs": [
        {
          "output_type": "execute_result",
          "data": {
            "text/plain": [
              "dict"
            ]
          },
          "metadata": {},
          "execution_count": 87
        }
      ],
      "source": [
        "type(dic)"
      ]
    },
    {
      "cell_type": "code",
      "execution_count": null,
      "metadata": {
        "colab": {
          "base_uri": "https://localhost:8080/"
        },
        "id": "3_wLBDvf6GX1",
        "outputId": "504aa41b-7111-4103-f344-f34e0ba744e8"
      },
      "outputs": [
        {
          "output_type": "execute_result",
          "data": {
            "text/plain": [
              "dict"
            ]
          },
          "metadata": {},
          "execution_count": 88
        }
      ],
      "source": [
        "type(dict()) ##inbuilt function, creating empty dict"
      ]
    },
    {
      "cell_type": "code",
      "execution_count": null,
      "metadata": {
        "id": "-Zt5gJor6GX1"
      },
      "outputs": [],
      "source": [
        "set_ex={1,2,3,4,5}  ##difference between set and dict"
      ]
    },
    {
      "cell_type": "code",
      "execution_count": null,
      "metadata": {
        "colab": {
          "base_uri": "https://localhost:8080/"
        },
        "id": "ZKnNblvD6GX2",
        "outputId": "b825d76f-60bd-45ed-f931-99b1c00e89f4"
      },
      "outputs": [
        {
          "output_type": "execute_result",
          "data": {
            "text/plain": [
              "set"
            ]
          },
          "metadata": {},
          "execution_count": 90
        }
      ],
      "source": [
        "type(set_ex)"
      ]
    },
    {
      "cell_type": "code",
      "execution_count": null,
      "metadata": {
        "id": "kFO9hn8w6GX2"
      },
      "outputs": [],
      "source": [
        "## Let create a dictionary\n",
        "\n",
        "my_dict={\"Car1\": \"Audi\", \"Car2\":\"BMW\",\"Car3\":\"Mercidies Benz\"} ##indexing wont be index number but key names or key values"
      ]
    },
    {
      "cell_type": "code",
      "execution_count": null,
      "metadata": {
        "colab": {
          "base_uri": "https://localhost:8080/"
        },
        "id": "oUh7IPti6GX2",
        "outputId": "01c063f9-7da0-420b-86d6-d3f52b1a1f32"
      },
      "outputs": [
        {
          "output_type": "execute_result",
          "data": {
            "text/plain": [
              "dict"
            ]
          },
          "metadata": {},
          "execution_count": 92
        }
      ],
      "source": [
        "type(my_dict)"
      ]
    },
    {
      "cell_type": "code",
      "execution_count": null,
      "metadata": {
        "colab": {
          "base_uri": "https://localhost:8080/",
          "height": 35
        },
        "id": "VuEP04T36GX3",
        "outputId": "18a53471-9b5d-4311-e380-8da5d9786ce1"
      },
      "outputs": [
        {
          "output_type": "execute_result",
          "data": {
            "text/plain": [
              "'Audi'"
            ],
            "application/vnd.google.colaboratory.intrinsic+json": {
              "type": "string"
            }
          },
          "metadata": {},
          "execution_count": 93
        }
      ],
      "source": [
        "##Access the item values based on keys\n",
        "\n",
        "my_dict['Car1']"
      ]
    },
    {
      "cell_type": "code",
      "execution_count": null,
      "metadata": {
        "colab": {
          "base_uri": "https://localhost:8080/"
        },
        "id": "sri-nijk6GX3",
        "outputId": "e6af8a06-03ec-46a4-cc6f-7dfa1467f730"
      },
      "outputs": [
        {
          "output_type": "stream",
          "name": "stdout",
          "text": [
            "Car1\n",
            "Car2\n",
            "Car3\n"
          ]
        }
      ],
      "source": [
        "# We can even loop throught the dictionaries keys\n",
        "\n",
        "for x in my_dict:\n",
        "    print(x)"
      ]
    },
    {
      "cell_type": "code",
      "execution_count": null,
      "metadata": {
        "colab": {
          "base_uri": "https://localhost:8080/"
        },
        "id": "O5ROCCMo6GX4",
        "outputId": "62609437-a65d-4d0e-d124-141adb1a74b1"
      },
      "outputs": [
        {
          "output_type": "stream",
          "name": "stdout",
          "text": [
            "Audi\n",
            "BMW\n",
            "Mercidies Benz\n"
          ]
        }
      ],
      "source": [
        "# We can even loop throught the dictionaries values\n",
        "\n",
        "for x in my_dict.values():\n",
        "    print(x)"
      ]
    },
    {
      "cell_type": "code",
      "execution_count": null,
      "metadata": {
        "colab": {
          "base_uri": "https://localhost:8080/"
        },
        "id": "7oTZ2jj46GX4",
        "outputId": "97e29c31-2974-496e-ab5d-fa98c93ce0d4"
      },
      "outputs": [
        {
          "output_type": "stream",
          "name": "stdout",
          "text": [
            "('Car1', 'Audi')\n",
            "('Car2', 'BMW')\n",
            "('Car3', 'Mercidies Benz')\n"
          ]
        }
      ],
      "source": [
        "# We can also check both keys and values\n",
        "for x in my_dict.items():\n",
        "    print(x)"
      ]
    },
    {
      "cell_type": "code",
      "execution_count": null,
      "metadata": {
        "id": "I5IFgpOr6GX4"
      },
      "outputs": [],
      "source": [
        "## Adding items in Dictionaries\n",
        "\n",
        "my_dict['car4']='Audi 2.0'"
      ]
    },
    {
      "cell_type": "code",
      "execution_count": null,
      "metadata": {
        "colab": {
          "base_uri": "https://localhost:8080/"
        },
        "id": "wSYM3ON06GX5",
        "outputId": "48d35d60-9047-4fb6-e2a8-ec85bd42d0f4"
      },
      "outputs": [
        {
          "output_type": "execute_result",
          "data": {
            "text/plain": [
              "{'Car1': 'Audi', 'Car2': 'BMW', 'Car3': 'Mercidies Benz', 'car4': 'Audi 2.0'}"
            ]
          },
          "metadata": {},
          "execution_count": 98
        }
      ],
      "source": [
        "my_dict"
      ]
    },
    {
      "cell_type": "code",
      "execution_count": null,
      "metadata": {
        "id": "kyVDqPjr6GX5"
      },
      "outputs": [],
      "source": [
        "my_dict['Car1']='MAruti'"
      ]
    },
    {
      "cell_type": "code",
      "execution_count": null,
      "metadata": {
        "colab": {
          "base_uri": "https://localhost:8080/"
        },
        "id": "m1ZN39In6GX5",
        "outputId": "0db645e3-7adb-42b3-ae20-febedc09a9f6"
      },
      "outputs": [
        {
          "output_type": "execute_result",
          "data": {
            "text/plain": [
              "{'Car1': 'MAruti', 'Car2': 'BMW', 'Car3': 'Mercidies Benz', 'car4': 'Audi 2.0'}"
            ]
          },
          "metadata": {},
          "execution_count": 100
        }
      ],
      "source": [
        "my_dict"
      ]
    },
    {
      "cell_type": "markdown",
      "metadata": {
        "id": "4ysVm4GN6GX6"
      },
      "source": [
        "### Nested Dictionary"
      ]
    },
    {
      "cell_type": "code",
      "execution_count": null,
      "metadata": {
        "id": "PSrPciq06GX6"
      },
      "outputs": [],
      "source": [
        "car1_model={'Mercedes':1960}\n",
        "car2_model={'Audi':1970}\n",
        "car3_model={'Ambassador':1980}\n",
        "\n",
        "car_type={'car1':car1_model,'car2':car2_model,'car3':car3_model}"
      ]
    },
    {
      "cell_type": "code",
      "execution_count": null,
      "metadata": {
        "colab": {
          "base_uri": "https://localhost:8080/"
        },
        "id": "8fqJDQeN6GX6",
        "outputId": "1a4afab4-05b4-48d2-da0f-82714e6df7a4"
      },
      "outputs": [
        {
          "output_type": "stream",
          "name": "stdout",
          "text": [
            "{'car1': {'Mercedes': 1960}, 'car2': {'Audi': 1970}, 'car3': {'Ambassador': 1980}}\n"
          ]
        }
      ],
      "source": [
        "print(car_type)"
      ]
    },
    {
      "cell_type": "code",
      "execution_count": null,
      "metadata": {
        "colab": {
          "base_uri": "https://localhost:8080/"
        },
        "id": "oocVLZPm6GX7",
        "outputId": "4e72ab4a-1366-45fe-c3c0-7beca1c72937"
      },
      "outputs": [
        {
          "output_type": "stream",
          "name": "stdout",
          "text": [
            "{'Mercedes': 1960}\n"
          ]
        }
      ],
      "source": [
        "## Accessing the items in the dictionary\n",
        "\n",
        "print(car_type['car1'])"
      ]
    },
    {
      "cell_type": "code",
      "execution_count": null,
      "metadata": {
        "colab": {
          "base_uri": "https://localhost:8080/"
        },
        "id": "C6z-Wqg16GX7",
        "outputId": "9e2247ef-fd5d-45c0-e533-339d2c84418f"
      },
      "outputs": [
        {
          "output_type": "stream",
          "name": "stdout",
          "text": [
            "1960\n"
          ]
        }
      ],
      "source": [
        "print(car_type['car1']['Mercedes'])  #getting specific value from nested dict"
      ]
    },
    {
      "cell_type": "markdown",
      "metadata": {
        "id": "K3wW6pXQ6GX8"
      },
      "source": [
        "## Tuples"
      ]
    },
    {
      "cell_type": "code",
      "execution_count": null,
      "metadata": {
        "id": "dbux3inU6GX8"
      },
      "outputs": [],
      "source": [
        "## create an empty Tuples\n",
        "\n",
        "my_tuple=tuple() ## is not mutable"
      ]
    },
    {
      "cell_type": "code",
      "execution_count": null,
      "metadata": {
        "colab": {
          "base_uri": "https://localhost:8080/"
        },
        "id": "IdxOIxV96GX8",
        "outputId": "149e4814-af0d-468c-d1e4-56aa6247a118"
      },
      "outputs": [
        {
          "output_type": "execute_result",
          "data": {
            "text/plain": [
              "tuple"
            ]
          },
          "metadata": {},
          "execution_count": 106
        }
      ],
      "source": [
        "type(my_tuple)"
      ]
    },
    {
      "cell_type": "code",
      "execution_count": null,
      "metadata": {
        "id": "EYvqZdsy6GX8"
      },
      "outputs": [],
      "source": [
        "my_tuple=()"
      ]
    },
    {
      "cell_type": "code",
      "execution_count": null,
      "metadata": {
        "colab": {
          "base_uri": "https://localhost:8080/"
        },
        "id": "dLpoxMY46GX9",
        "outputId": "c6bbbe0a-c2c3-41c9-9ca9-bbd5d5e3e165"
      },
      "outputs": [
        {
          "output_type": "execute_result",
          "data": {
            "text/plain": [
              "tuple"
            ]
          },
          "metadata": {},
          "execution_count": 108
        }
      ],
      "source": [
        "type(my_tuple)"
      ]
    },
    {
      "cell_type": "code",
      "execution_count": null,
      "metadata": {
        "id": "Gi2GV19Z6GX9"
      },
      "outputs": [],
      "source": [
        "my_tuple=(\"hi\",\"hello\",\"hello\")"
      ]
    },
    {
      "cell_type": "code",
      "source": [
        "## my_tuple[0] ='nini'\n",
        "## tuple doesnot support item assignemnt"
      ],
      "metadata": {
        "id": "c1wXkgO3DBR1"
      },
      "execution_count": null,
      "outputs": []
    },
    {
      "cell_type": "code",
      "execution_count": null,
      "metadata": {
        "id": "mQbtsn1y6GX9"
      },
      "outputs": [],
      "source": [
        "my_tuple=('Hello','World') ##whole tuple can be replaced but not the elements"
      ]
    },
    {
      "cell_type": "markdown",
      "source": [
        "Tuple will be used where the definition of an item is required just one time. you cannot perform any operation on it just replace the entire items"
      ],
      "metadata": {
        "id": "byH3ZJOcDTTD"
      }
    },
    {
      "cell_type": "code",
      "execution_count": null,
      "metadata": {
        "colab": {
          "base_uri": "https://localhost:8080/"
        },
        "id": "kimXNllJ6GX-",
        "outputId": "d6ea2a1b-36bc-4075-82a2-db2325cbd453"
      },
      "outputs": [
        {
          "output_type": "stream",
          "name": "stdout",
          "text": [
            "<class 'tuple'>\n",
            "('Hello', 'World')\n"
          ]
        }
      ],
      "source": [
        "print(type(my_tuple))\n",
        "print(my_tuple)"
      ]
    },
    {
      "cell_type": "code",
      "execution_count": null,
      "metadata": {
        "colab": {
          "base_uri": "https://localhost:8080/"
        },
        "id": "OgWFLBe26GX-",
        "outputId": "8efc6645-00e8-4f4e-def7-5ea3813803d9"
      },
      "outputs": [
        {
          "output_type": "execute_result",
          "data": {
            "text/plain": [
              "tuple"
            ]
          },
          "metadata": {},
          "execution_count": 118
        }
      ],
      "source": [
        "type(my_tuple)"
      ]
    },
    {
      "cell_type": "code",
      "execution_count": null,
      "metadata": {
        "colab": {
          "base_uri": "https://localhost:8080/"
        },
        "id": "oSIw8-5N6GX-",
        "outputId": "5fe209be-c2f1-46c8-c133-5ac30f0abc33"
      },
      "outputs": [
        {
          "output_type": "execute_result",
          "data": {
            "text/plain": [
              "2"
            ]
          },
          "metadata": {},
          "execution_count": 121
        }
      ],
      "source": [
        "## Inbuilt function\n",
        "my_tuple.count('hello') # can see how many times a value is present"
      ]
    },
    {
      "cell_type": "code",
      "execution_count": null,
      "metadata": {
        "colab": {
          "base_uri": "https://localhost:8080/"
        },
        "id": "5hCfG7iy6GX-",
        "outputId": "56f7a85d-581a-460a-e086-231229bffde4"
      },
      "outputs": [
        {
          "output_type": "execute_result",
          "data": {
            "text/plain": [
              "0"
            ]
          },
          "metadata": {},
          "execution_count": 123
        }
      ],
      "source": [
        "my_tuple.index('hi') ##can check the index of a value"
      ]
    },
    {
      "cell_type": "code",
      "execution_count": null,
      "metadata": {
        "id": "khGwHIix6GX_"
      },
      "outputs": [],
      "source": []
    }
  ],
  "metadata": {
    "kernelspec": {
      "display_name": "Python 3",
      "language": "python",
      "name": "python3"
    },
    "language_info": {
      "codemirror_mode": {
        "name": "ipython",
        "version": 3
      },
      "file_extension": ".py",
      "mimetype": "text/x-python",
      "name": "python",
      "nbconvert_exporter": "python",
      "pygments_lexer": "ipython3",
      "version": "3.6.7"
    },
    "colab": {
      "provenance": []
    }
  },
  "nbformat": 4,
  "nbformat_minor": 0
}