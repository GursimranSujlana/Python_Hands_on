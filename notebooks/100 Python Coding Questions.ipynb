{
 "cells": [
  {
   "cell_type": "markdown",
   "id": "90215b05",
   "metadata": {},
   "source": [
    "# 100 Python Coding Questions"
   ]
  },
  {
   "cell_type": "markdown",
   "id": "c98b10f8",
   "metadata": {},
   "source": [
    "### 1. check if a string is a palindrome"
   ]
  },
  {
   "cell_type": "code",
   "execution_count": 8,
   "id": "692cf91b",
   "metadata": {},
   "outputs": [
    {
     "name": "stdout",
     "output_type": "stream",
     "text": [
      "Enter a string:\n",
      "nikki\n",
      "The string \"nikki\" is not a palindrome\n"
     ]
    }
   ],
   "source": [
    "def is_palindrome(s):\n",
    "    s = s.lower().strip()  # Convert to lowercase and remove surrounding whitespace\n",
    "    return s == s[::-1]\n",
    "\n",
    "def main():\n",
    "    print('Enter a string:')\n",
    "    user_input = input()\n",
    "    if is_palindrome(user_input):\n",
    "        print('The string \"{}\" is a palindrome'.format(user_input))\n",
    "    else: \n",
    "        print('The string \"{}\" is not a palindrome'.format(user_input))\n",
    "\n",
    "if __name__ == \"__main__\":\n",
    "    main()"
   ]
  },
  {
   "cell_type": "markdown",
   "id": "c370ce20",
   "metadata": {},
   "source": [
    "### 2. find the factorial of a number."
   ]
  },
  {
   "cell_type": "code",
   "execution_count": 13,
   "id": "7cea01f1",
   "metadata": {},
   "outputs": [
    {
     "name": "stdout",
     "output_type": "stream",
     "text": [
      "Enter number to get the factorial: \n",
      "5\n",
      "The factorial of number \"5\" is 120\n"
     ]
    }
   ],
   "source": [
    "def is_factorial(f):\n",
    "    result = 1\n",
    "    for i in range(1, f+1):\n",
    "        result *= i\n",
    "    return result\n",
    "\n",
    "def main():\n",
    "    print('Enter number to get the factorial: ')\n",
    "    fact_number = int(input())\n",
    "    fact = is_factorial(fact_number)\n",
    "    print('The factorial of number \"{}\" is {}'.format(fact_number,fact))\n",
    "\n",
    "if __name__ =='__main__':\n",
    "    main()"
   ]
  },
  {
   "cell_type": "markdown",
   "id": "852cbd75",
   "metadata": {},
   "source": [
    "### 3. find the largest element in a list."
   ]
  },
  {
   "cell_type": "code",
   "execution_count": 16,
   "id": "021fe39c",
   "metadata": {},
   "outputs": [
    {
     "name": "stdout",
     "output_type": "stream",
     "text": [
      "Enter the number of elements in the list:\n",
      "4\n",
      "Enter the elements:\n",
      "5\n",
      "5\n",
      "8\n",
      "6\n",
      "The largest number from the list is: 8\n"
     ]
    }
   ],
   "source": [
    "def is_largest(n):\n",
    "    largest = n[0]\n",
    "    for i in n:\n",
    "        if largest < i:\n",
    "            largest = i\n",
    "    return largest\n",
    "\n",
    "def main():\n",
    "    print('Enter the number of elements in the list:')\n",
    "    num_elements = int(input())\n",
    "    lst = []\n",
    "    print('Enter the elements:')\n",
    "    for i in range(num_elements):\n",
    "        lst.append(int(input()))\n",
    "    largest = is_largest(lst)\n",
    "    print('The largest number from the list is:', largest)\n",
    "\n",
    "if __name__ == '__main__':\n",
    "    main()\n"
   ]
  },
  {
   "cell_type": "markdown",
   "id": "7bb6556a",
   "metadata": {},
   "source": [
    "### 4.  reverse a string."
   ]
  },
  {
   "cell_type": "code",
   "execution_count": 25,
   "id": "4736c029",
   "metadata": {},
   "outputs": [
    {
     "name": "stdout",
     "output_type": "stream",
     "text": [
      "Enter the string you want to reverse: \n",
      "nikki\n",
      "The reverse string of the string \"nikki\" is \"ikkin\"\n"
     ]
    }
   ],
   "source": [
    "def is_reverse(strng):\n",
    "    rev_strng = strng[::-1]\n",
    "    return rev_strng\n",
    "def main():\n",
    "    print('Enter the string you want to reverse: ')\n",
    "    strng = input()\n",
    "    rev_strng = is_reverse(strng)\n",
    "    print('The reverse string of the string \"{}\" is \"{}\"'.format(strng,rev_strng))\n",
    "    \n",
    "if __name__=='__main__':\n",
    "    main()"
   ]
  },
  {
   "cell_type": "markdown",
   "id": "1d78e46c",
   "metadata": {},
   "source": [
    "### 5. count the frequency of each element in a list."
   ]
  },
  {
   "cell_type": "code",
   "execution_count": 5,
   "id": "f3039534",
   "metadata": {
    "scrolled": true
   },
   "outputs": [
    {
     "name": "stdout",
     "output_type": "stream",
     "text": [
      "Enter a list of 5 numbers:\n",
      "7\n",
      "8\n",
      "4\n",
      "5\n",
      "7\n",
      "The frequency of elements in the list [7, 8, 4, 5, 7] is as follows:\n",
      "Element 7: 2 times\n",
      "Element 8: 1 times\n",
      "Element 4: 1 times\n",
      "Element 5: 1 times\n"
     ]
    }
   ],
   "source": [
    "def is_frequency(n):\n",
    "    freq = {}\n",
    "    for i in n:\n",
    "        if i in freq:\n",
    "            freq[i] += 1\n",
    "        else:\n",
    "            freq[i] = 1\n",
    "    return freq\n",
    "\n",
    "def main():\n",
    "    print('Enter a list of 5 numbers:')\n",
    "    numbers = []\n",
    "    for i in range(5):\n",
    "        numbers.append(int(input()))\n",
    "    \n",
    "    freq = is_frequency(numbers)\n",
    "    \n",
    "    print('The frequency of elements in the list {} is as follows:'.format(numbers))\n",
    "    for key, value in freq.items():\n",
    "        print('Element {}: {} times'.format(key, value))\n",
    "\n",
    "if __name__ == '__main__':\n",
    "    main()\n"
   ]
  }
 ],
 "metadata": {
  "kernelspec": {
   "display_name": "Python 3 (ipykernel)",
   "language": "python",
   "name": "python3"
  },
  "language_info": {
   "codemirror_mode": {
    "name": "ipython",
    "version": 3
   },
   "file_extension": ".py",
   "mimetype": "text/x-python",
   "name": "python",
   "nbconvert_exporter": "python",
   "pygments_lexer": "ipython3",
   "version": "3.11.5"
  }
 },
 "nbformat": 4,
 "nbformat_minor": 5
}
