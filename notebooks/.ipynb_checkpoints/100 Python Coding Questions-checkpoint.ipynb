{
 "cells": [
  {
   "cell_type": "markdown",
   "id": "90215b05",
   "metadata": {},
   "source": [
    "# 100 Python Coding Questions"
   ]
  },
  {
   "cell_type": "markdown",
   "id": "c98b10f8",
   "metadata": {},
   "source": [
    "### 1. check if a string is a palindrome"
   ]
  },
  {
   "cell_type": "code",
   "execution_count": 8,
   "id": "692cf91b",
   "metadata": {},
   "outputs": [
    {
     "name": "stdout",
     "output_type": "stream",
     "text": [
      "Enter a string:\n",
      "nikki\n",
      "The string \"nikki\" is not a palindrome\n"
     ]
    }
   ],
   "source": [
    "def is_palindrome(s):\n",
    "    s = s.lower().strip()  # Convert to lowercase and remove surrounding whitespace\n",
    "    return s == s[::-1]\n",
    "\n",
    "def main():\n",
    "    user_input = input(('Enter a string:'))\n",
    "    if is_palindrome(user_input):\n",
    "        print('The string \"{}\" is a palindrome'.format(user_input))\n",
    "    else: \n",
    "        print('The string \"{}\" is not a palindrome'.format(user_input))\n",
    "\n",
    "if __name__ == \"__main__\":\n",
    "    main()"
   ]
  },
  {
   "cell_type": "markdown",
   "id": "c34626e3",
   "metadata": {},
   "source": [
    "#### using if __name__ == '__main__': is considered good practice in Python programming for several reasons:\n",
    "\n",
    "1. Code Reusability:\n",
    "It allows your code to be reused as a module in other scripts. Other scripts can import your functions and classes without executing the script's main functionality.\n",
    "2. Separation of Concerns:\n",
    "It separates the definition of functions and classes from the execution of the script. This makes the code cleaner and more organized.\n",
    "3. Testing and Debugging:\n",
    "It facilitates easier testing and debugging. You can test the functionality of your script by running it directly, and also test individual functions by importing them into a separate test script or interactive session.\n",
    "4. Maintains Script Functionality:\n",
    "It ensures that the script behaves as intended when run directly but does not execute unintended code when imported.\n"
   ]
  },
  {
   "cell_type": "markdown",
   "id": "c370ce20",
   "metadata": {},
   "source": [
    "### 2. find the factorial of a number."
   ]
  },
  {
   "cell_type": "code",
   "execution_count": 9,
   "id": "7cea01f1",
   "metadata": {},
   "outputs": [
    {
     "name": "stdout",
     "output_type": "stream",
     "text": [
      "Enter number to get the factorial: 78\n",
      "The factorial of number \"78\" is 11324281178206297831457521158732046228731749579488251990048962825668835325234200766245086213177344000000000000000000\n"
     ]
    }
   ],
   "source": [
    "def is_factorial(f):\n",
    "    result = 1\n",
    "    for i in range(1, f+1):\n",
    "        result *= i\n",
    "    return result\n",
    "\n",
    "def main():\n",
    "    fact_number = int(input(('Enter number to get the factorial: ')))\n",
    "    fact = is_factorial(fact_number)\n",
    "    print('The factorial of number \"{}\" is {}'.format(fact_number,fact))\n",
    "\n",
    "if __name__ =='__main__':\n",
    "    main()"
   ]
  },
  {
   "cell_type": "markdown",
   "id": "852cbd75",
   "metadata": {},
   "source": [
    "### 3. find the largest element in a list."
   ]
  },
  {
   "cell_type": "code",
   "execution_count": 7,
   "id": "021fe39c",
   "metadata": {},
   "outputs": [
    {
     "name": "stdout",
     "output_type": "stream",
     "text": [
      "Enter the number of elements in the list:5\n",
      "Enter the elements:\n",
      "78\n",
      "95\n",
      "21\n",
      "95\n",
      "78\n",
      "The largest number from the list is: 95\n"
     ]
    }
   ],
   "source": [
    "def is_largest(n):\n",
    "    largest = n[0]\n",
    "    for i in n:\n",
    "        if largest < i:\n",
    "            largest = i\n",
    "    return largest\n",
    "\n",
    "def main():\n",
    "    num_elements =int(input('Enter the number of elements in the list:'))\n",
    "    lst = []\n",
    "    print('Enter the elements:')\n",
    "    for i in range(num_elements):\n",
    "        lst.append(int(input()))\n",
    "    largest = is_largest(lst)\n",
    "    print('The largest number from the list is:', largest)\n",
    "\n",
    "if __name__ == '__main__':\n",
    "    main()\n"
   ]
  },
  {
   "cell_type": "markdown",
   "id": "7bb6556a",
   "metadata": {},
   "source": [
    "### 4.  reverse a string."
   ]
  },
  {
   "cell_type": "code",
   "execution_count": 6,
   "id": "4736c029",
   "metadata": {},
   "outputs": [
    {
     "name": "stdout",
     "output_type": "stream",
     "text": [
      "Enter the string you want to reverse: 45\n",
      "The reverse string of the string \"45\" is \"54\"\n"
     ]
    }
   ],
   "source": [
    "def is_reverse(strng):\n",
    "    rev_strng = strng[::-1]\n",
    "    return rev_strng\n",
    "def main():\n",
    "    strng = input('Enter the string you want to reverse: ')\n",
    "    rev_strng = is_reverse(strng)\n",
    "    print('The reverse string of the string \"{}\" is \"{}\"'.format(strng,rev_strng))\n",
    "    \n",
    "if __name__=='__main__':\n",
    "    main()"
   ]
  },
  {
   "cell_type": "markdown",
   "id": "1d78e46c",
   "metadata": {},
   "source": [
    "### 5. count the frequency of each element in a list."
   ]
  },
  {
   "cell_type": "code",
   "execution_count": 5,
   "id": "f3039534",
   "metadata": {
    "scrolled": true
   },
   "outputs": [
    {
     "name": "stdout",
     "output_type": "stream",
     "text": [
      "Enter a list of 5 numbers:\n",
      "7\n",
      "8\n",
      "4\n",
      "5\n",
      "7\n",
      "The frequency of elements in the list [7, 8, 4, 5, 7] is as follows:\n",
      "Element 7: 2 times\n",
      "Element 8: 1 times\n",
      "Element 4: 1 times\n",
      "Element 5: 1 times\n"
     ]
    }
   ],
   "source": [
    "def is_frequency(n):\n",
    "    freq = {}\n",
    "    for i in n:\n",
    "        if i in freq:\n",
    "            freq[i] += 1\n",
    "        else:\n",
    "            freq[i] = 1\n",
    "    return freq\n",
    "\n",
    "def main():\n",
    "    print('Enter a list of 5 numbers:')\n",
    "    numbers = []\n",
    "    for i in range(5):\n",
    "        numbers.append(int(input()))\n",
    "    \n",
    "    freq = is_frequency(numbers)\n",
    "    \n",
    "    print('The frequency of elements in the list {} is as follows:'.format(numbers))\n",
    "    for key, value in freq.items():\n",
    "        print('Element {}: {} times'.format(key, value))\n",
    "\n",
    "if __name__ == '__main__':\n",
    "    main()\n"
   ]
  },
  {
   "cell_type": "markdown",
   "id": "841f88aa",
   "metadata": {},
   "source": [
    "### 6. check if a number is prime"
   ]
  },
  {
   "cell_type": "code",
   "execution_count": 5,
   "id": "76b73795",
   "metadata": {},
   "outputs": [
    {
     "name": "stdout",
     "output_type": "stream",
     "text": [
      "enter number to check: 87\n",
      "The number \"87\" is not prime.\n"
     ]
    }
   ],
   "source": [
    "def is_prime(n):\n",
    "    if n < 2 :\n",
    "        return False\n",
    "    for i in range(2, int(n**0.5) + 1):\n",
    "        if n%i == 0:\n",
    "            return False\n",
    "    return True\n",
    "\n",
    "def main():\n",
    "    num = int(input(\"enter number to check: \"))\n",
    "    prime_n = is_prime(num)\n",
    "    if prime_n:\n",
    "        print('The number \"{}\" is prime.'.format(num))\n",
    "    else:\n",
    "        print('The number \"{}\" is not prime.'.format(num))\n",
    "\n",
    "\n",
    "if __name__ == '__main__':\n",
    "    main()"
   ]
  },
  {
   "cell_type": "markdown",
   "id": "9bbcbd05",
   "metadata": {},
   "source": [
    "#### Note:\n",
    "Numbers less than 2 are not prime.\n",
    "The function checks for divisors from 2 up to the square root of n.\n",
    "If any divisor is found within this range, n is not prime.\n",
    "If no divisors are found, n is prime."
   ]
  },
  {
   "cell_type": "markdown",
   "id": "8370bbb3",
   "metadata": {},
   "source": [
    "### 7. find the common elements between two lists."
   ]
  },
  {
   "cell_type": "code",
   "execution_count": 15,
   "id": "1aa49482",
   "metadata": {},
   "outputs": [
    {
     "name": "stdout",
     "output_type": "stream",
     "text": [
      "Enter 5 integers for list 1:\n",
      "8\n",
      "5\n",
      "69\n",
      "782\n",
      "265\n",
      "Enter 5 integers for list 2:\n",
      "84\n",
      "8\n",
      "5\n",
      "65\n",
      "812\n",
      "Common numbers in \"[8, 5, 69, 782, 265]\" and \"[84, 8, 5, 65, 812]\" are \"[8, 5]\"\n"
     ]
    }
   ],
   "source": [
    "def is_common(a, b):\n",
    "    b_set = set(b)\n",
    "    lst_common = [elem for elem in a if elem in b_set]\n",
    "    return lst_common\n",
    "\n",
    "def main():\n",
    "    lst1 = []\n",
    "    lst2 = []\n",
    "    \n",
    "    print(\"Enter 5 integers for list 1:\")\n",
    "    for i in range(5):\n",
    "        num1 = int(input())\n",
    "        lst1.append(num1)\n",
    "    \n",
    "    print(\"Enter 5 integers for list 2:\")\n",
    "    for i in range(5):\n",
    "        num2 = int(input())\n",
    "        lst2.append(num2)\n",
    "    \n",
    "    lst_common = is_common(lst1, lst2)\n",
    "    print('Common numbers in \"{}\" and \"{}\" are \"{}\"'.format(lst1, lst2, lst_common))\n",
    "\n",
    "if __name__ == '__main__':\n",
    "    main() "
   ]
  },
  {
   "cell_type": "markdown",
   "id": "f6fd57a5",
   "metadata": {},
   "source": [
    "#### Note:\n",
    "1. Using sets, the time complexity is improved to O(n + m) because set creation and membership checks are on average O(1).\n",
    "2. List comprehensions and set operations make the code more readable and concise."
   ]
  },
  {
   "cell_type": "markdown",
   "id": "288f11f8",
   "metadata": {},
   "source": [
    "#### 8.  sort a list of elements using the bubble sort algorithm."
   ]
  },
  {
   "cell_type": "code",
   "execution_count": 22,
   "id": "3fac703e",
   "metadata": {},
   "outputs": [
    {
     "name": "stdout",
     "output_type": "stream",
     "text": [
      "Enter elements separated by space: 8 7 4 15 66 \n",
      "Original list: [8, 7, 4, 15, 66]\n",
      "Sorted list: [4, 7, 8, 15, 66]\n"
     ]
    }
   ],
   "source": [
    "def bubble_sort(arr):\n",
    "    n = len(arr)\n",
    "    for i in range(n):\n",
    "        swapped = False \n",
    "        for j in range(0, n - i - 1):\n",
    "            if arr[j] > arr[j + 1]:\n",
    "                arr[j], arr[j + 1] = arr[j + 1], arr[j]\n",
    "                swapped = True  \n",
    "        if not swapped:\n",
    "            break\n",
    "\n",
    "def main():\n",
    "    elements = list(map(int, input(\"Enter elements separated by space: \").split()))\n",
    "    \n",
    "    print(\"Original list:\", elements)\n",
    "    bubble_sort(elements)\n",
    "    print(\"Sorted list:\", elements)\n",
    "\n",
    "if __name__ == '__main__':\n",
    "    main()"
   ]
  },
  {
   "cell_type": "markdown",
   "id": "0200a5e4",
   "metadata": {},
   "source": [
    "#### Bubble Sort Algorithm Explanation:\n",
    "Bubble Sort is a simple sorting algorithm that works by repeatedly stepping through the list to be sorted, comparing each pair of adjacent items and swapping them if they are in the wrong order. The pass through the list is repeated until the list is sorted.\n",
    "\n",
    "A flag to detect if any swaps were made in a pass. If no swaps were made, the list is already sorted, and we can break out of the loop early. This optimization can reduce the number of unnecessary passes through the list.\n",
    "\n",
    "Bubble Sort has a time complexity of O(n^2) in the worst and average cases, making it inefficient for large lists compared to more advanced algorithms like Quick Sort, Merge Sort, or Heap Sort. However, it is easy to understand and implement, making it a good starting point for learning sorting algorithms."
   ]
  },
  {
   "cell_type": "markdown",
   "id": "fc84f986",
   "metadata": {},
   "source": [
    "#### 9.  find the second largest number in a list."
   ]
  },
  {
   "cell_type": "code",
   "execution_count": 21,
   "id": "314b6441",
   "metadata": {},
   "outputs": [
    {
     "name": "stdout",
     "output_type": "stream",
     "text": [
      "Enter 10 integers for the list, separated by spaces: 5 9 6 7 89 56 44 78 889 877\n",
      "Second largest number from the list is: 877\n"
     ]
    }
   ],
   "source": [
    "def sec_largest(n):\n",
    "    if len(n) < 2:\n",
    "        return None  # Not enough elements to find the second largest\n",
    "    \n",
    "    first, second = float('-inf'), float('-inf')\n",
    "    for elem in n:\n",
    "        if elem > first:\n",
    "            second = first\n",
    "            first = elem\n",
    "        elif elem > second and elem != first:\n",
    "            second = elem\n",
    "    return second\n",
    "\n",
    "def main():\n",
    "    elements = list(map(int, input(\"Enter 10 integers for the list, separated by spaces: \").split()))\n",
    "    \n",
    "    if len(elements) != 10:\n",
    "        print(\"Please enter exactly 10 integers.\")\n",
    "        return\n",
    "    \n",
    "    larg = sec_largest(elements)\n",
    "    if larg is not None:\n",
    "        print(\"Second largest number from the list is:\", larg)\n",
    "    else:\n",
    "        print(\"Not enough unique elements to determine the second largest number.\")\n",
    "\n",
    "if __name__ == '__main__':\n",
    "    main()\n"
   ]
  },
  {
   "cell_type": "markdown",
   "id": "362ace12",
   "metadata": {},
   "source": [
    "#### Note: \n",
    "The line first, second = float('-inf'), float('-inf') initializes two variables, first and second, to negative infinity. \n",
    "\n",
    "Let's break down why this is done and what it means.\n",
    "\n",
    "Explanation:\n",
    "1. Negative Infinity: \n",
    "float('-inf') represents negative infinity in Python. It is a special floating-point value that is less than any other numeric value. Using float('-inf') ensures that any number compared to it will be larger.\n",
    "\n",
    "2. Initialization: \n",
    "By initializing first and second to negative infinity, you ensure that any number in the list will replace these initial values. This is especially useful when trying to find the largest and second largest numbers in a list.\n",
    "\n",
    "Why Use Negative Infinity?\n",
    "\n",
    "1. Comparison Guarantee: \n",
    "When you start with first and second set to negative infinity, the first two numbers you encounter in the list will automatically become the largest (first) and second largest (second), as any number is greater than negative infinity.\n",
    "\n",
    "2. Edge Cases Handling: \n",
    "Using negative infinity allows your algorithm to handle lists that contain negative numbers properly. If you initialized first and second to 0, the function might fail with lists that only contain negative numbers.\n",
    "\n",
    "\n",
    "Additionally, Instead of asking for 10 integers one by one, the user inputs all integers at once, separated by spaces. This is more efficient for both the user and the code.\n",
    "\n",
    "elements = list(map(int, input(\"Enter 10 integers for the list, separated by spaces: \").split()))\n",
    "\n",
    "This line reads the input, splits it by spaces, and maps each part to an integer, creating a list of integers."
   ]
  },
  {
   "cell_type": "markdown",
   "id": "25577de2",
   "metadata": {},
   "source": [
    "#### 10. remove duplicates from a list."
   ]
  },
  {
   "cell_type": "code",
   "execution_count": 23,
   "id": "94e2e3ae",
   "metadata": {},
   "outputs": [
    {
     "name": "stdout",
     "output_type": "stream",
     "text": [
      "Enter elements separated by space: 87 65 78 45 65 78\n",
      "Original list: [87, 65, 78, 45, 65, 78]\n",
      "List after removing duplicates: [87, 65, 78, 45]\n"
     ]
    }
   ],
   "source": [
    "def remove_duplicates(lst):\n",
    "    seen = set()\n",
    "    return [x for x in lst if x not in seen and not seen.add(x)]\n",
    "\n",
    "def main():\n",
    "    elements = list(map(int, input(\"Enter elements separated by space: \").split()))\n",
    "    \n",
    "    print(\"Original list:\", elements)\n",
    "    unique_elements = remove_duplicates(elements)\n",
    "    print(\"List after removing duplicates:\", unique_elements)\n",
    "\n",
    "if __name__ == '__main__':\n",
    "    main()"
   ]
  },
  {
   "cell_type": "markdown",
   "id": "418d8f29",
   "metadata": {},
   "source": [
    "#### Explanation:\n",
    "\n",
    "1. Using a Set for Fast Lookups:\n",
    "\n",
    "A set is used to keep track of elements that have already been encountered.\n",
    "Sets provide average O(1) time complexity for lookups and insertions.\n",
    "\n",
    "2. List Comprehension for Concise Filtering:\n",
    "\n",
    "The list comprehension iterates over each element in the original list.\n",
    "\n",
    "The condition x not in seen and not seen.add(x) ensures that:\n",
    "\n",
    "x not in seen checks if the element x has already been encountered.\n",
    "not seen.add(x) adds the element x to the set seen and returns False. Since and short-circuits, this ensures that x is added to the resulting list only if it was not already in seen.\n",
    "\n",
    "3. Preserves Original Order:\n",
    "\n",
    "The order of elements is preserved because the list comprehension iterates over the original list in order.\n",
    "\n",
    "#### Efficiency:\n",
    "\n",
    "1. Time Complexity:\n",
    "\n",
    "The list comprehension iterates over each element exactly once: O(n).\n",
    "Set lookups and insertions both have an average time complexity of O(1).\n",
    "Overall time complexity: O(n).\n",
    "\n",
    "2. Space Complexity:\n",
    "\n",
    "The additional space used is proportional to the number of unique elements: O(u), where u is the number of unique elements in the list.\n",
    "\n",
    "#### Overall space complexity: O(n) in the worst case, where all elements are unique.\n",
    "This implementation strikes a balance between efficiency and simplicity, making it both fast and easy to understand."
   ]
  }
 ],
 "metadata": {
  "kernelspec": {
   "display_name": "Python 3 (ipykernel)",
   "language": "python",
   "name": "python3"
  },
  "language_info": {
   "codemirror_mode": {
    "name": "ipython",
    "version": 3
   },
   "file_extension": ".py",
   "mimetype": "text/x-python",
   "name": "python",
   "nbconvert_exporter": "python",
   "pygments_lexer": "ipython3",
   "version": "3.11.5"
  }
 },
 "nbformat": 4,
 "nbformat_minor": 5
}
